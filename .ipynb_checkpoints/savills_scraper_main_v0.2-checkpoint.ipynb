{
 "cells": [
  {
   "cell_type": "markdown",
   "metadata": {},
   "source": [
    "**0. Importing Dependencies**"
   ]
  },
  {
   "cell_type": "code",
   "execution_count": 1,
   "metadata": {},
   "outputs": [],
   "source": [
    "import pandas as pd\n",
    "import numpy as np\n",
    "import matplotlib.pyplot as plt\n",
    "import datetime\n",
    "from bs4 import BeautifulSoup\n",
    "import requests\n",
    "import datetime"
   ]
  },
  {
   "cell_type": "markdown",
   "metadata": {},
   "source": [
    "**1. Scraper setup for savills.co.uk**"
   ]
  },
  {
   "cell_type": "code",
   "execution_count": 37,
   "metadata": {
    "scrolled": true
   },
   "outputs": [
    {
     "name": "stdout",
     "output_type": "stream",
     "text": [
      "{1: {'price': '£1,250,000', 'address': 'Southwell Gardens… London, SW7 4SB'}, 2: {'price': '£1,900,000', 'address': 'Overstrand Mansions… Prince of Wales Drive, London, SW11 4EU'}, 3: {'price': '£2,250,000', 'address': 'Grenville Place… South Kensington, London, SW7 4RW'}, 4: {}, 5: {'price': '£3,750,000', 'address': 'Radnor Walk… Chelsea, London, SW3 4BT'}, 6: {'price': '£1,750,000\\xa0-\\u200b £4,850,000', 'address': 'The Draycott… 10 Draycott Avenue, London, SW3 3AA'}, 7: {'price': '£2,350,000', 'address': 'Sloane Gardens… London, SW1W 8DL'}, 8: {'price': '£2,750,000', 'address': 'Elvaston Place… South Kensington, London, SW7 5QF'}, 9: {'price': '£875,000', 'address': 'Prince of Wales Mansions… Prince of Wales Drive, London, SW11 4BJ'}, 10: {'price': '£3,000,000', 'address': 'Tedworth Square… London, SW3 4DU'}, 11: {'price': '£10,500,000', 'address': 'Sloane Street… London, SW1X 9LU'}, 12: {'price': '£2,250,000', 'address': \"Queen's Gate Terrace… London, SW7 5PH\"}, 13: {'price': '£1,200,000', 'address': 'Stanhope Gardens… London, SW7 5QX'}, 14: {'price': '£1,199,000', 'address': 'Bredin House… Coleridge Gardens, London, SW10 0RL'}, 15: {'price': '£610,000', 'address': 'Oswald Building… Chelsea Bridge Wharf, Battersea, London, SW11 8PJ'}, 16: {'price': '£529,950', 'address': 'Primrose Mansions… Prince of Wales Drive, London, SW11 4EG'}, 17: {'price': '£1,685,000', 'address': 'Overstrand Mansions… Prince of Wales Drive, London, SW11 4EY'}, 18: {'price': '£4,500,000', 'address': 'Sumner Place Mews… South Kensington, London, SW7 3EF'}}\n"
     ]
    }
   ],
   "source": [
    "# document time \n",
    "time_started = str(datetime.datetime.now()).replace(\" \",\"_\").replace(\":\",\"-\")[0:19]\n",
    "\n",
    "#insert target url\n",
    "max_iter = 1000\n",
    "\n",
    "html_text = requests.get('https://search.savills.com/list?SearchList=Id_28028+Category_TownVillageCity&Tenure=GRS_T_B&SortOrder=SO_PCDD&Currency=GBP&ResidentialSizeUnit=SquareFeet&LandAreaUnit=Acre&SaleableAreaUnit=SquareMeter&AvailableSizeUnit=SquareFeet&Category=GRS_CAT_RES&Shapes=W10').text\n",
    "soup = BeautifulSoup(html_text, 'lxml')\n",
    "# print(soup.prettify())\n",
    "\n",
    "ads = soup.find_all('li', class_ = 'sv-results-listing__item') #searches for 'div' and is filtered by the CSS-snippet\n",
    "\n",
    "\n",
    "\n",
    "\n",
    "map = {} #create nested dictionary to store the results\n",
    "id = 0 #insert ad_ID to distinguish between each ad \n",
    "\n",
    "for k in range(len(ads)):\n",
    "    ad = ads[k]\n",
    "    id += 1\n",
    "    map[id] = {}\n",
    "    price = ad.find('span', class_ = 'sv-property-price__value')\n",
    "    adress1 = ad.find('h3', class_ = 'sv-details__address1')\n",
    "    adress2 = ad.find('p', class_ = 'sv-details__address2')\n",
    "    try:\n",
    "        price = price.text\n",
    "    except:\n",
    "        continue\n",
    "    try:\n",
    "        adress1 = adress1.text\n",
    "    except:\n",
    "        continue\n",
    "    try:\n",
    "        adress2 = adress2.text\n",
    "    except:\n",
    "        continue\n",
    "    adress_extracted = adress1 + ' ' + adress2\n",
    "    map[id][\"price\"] = price\n",
    "    map[id][\"address\"] = adress_extracted\n",
    "\n",
    "\n",
    "print(map)\n",
    "\n",
    "\n",
    "\n",
    "\n",
    "#map = {} #create nested dictionary to store the results\n",
    "#id = 0 #insert ad_ID to distinguish between each ad \n",
    "#\n",
    "#for k in range(len(ads)):\n",
    "#    ad = ads[k]\n",
    "#    id += 1\n",
    "#    map[id] = {}\n",
    "#\n",
    "#    price = ad.find('span', class_ = \"sv-property-price__value\").text  #catches the price WITHIN one ad\n",
    "#    address1 = ad.find('span', class_ = 'sv-details__address1--truncate').text.replace(\"…\",\" \") #catches the subway section WITHIN one ad\n",
    "#    address2 = ad.find('p', class_ = 'sv-details__address2').text #catches the subway distance WITHIN one ad\n",
    "#    print(address + ' costs ' + price)\n",
    "#    \n",
    "#    #map[id][\"price\"] = price\n",
    "#    #map[id][\"address\"] = [address]\n",
    "#\n",
    "#    \n",
    "##print(map)"
   ]
  },
  {
   "cell_type": "code",
   "execution_count": null,
   "metadata": {},
   "outputs": [],
   "source": []
  }
 ],
 "metadata": {
  "kernelspec": {
   "display_name": "Python 3",
   "language": "python",
   "name": "python3"
  },
  "language_info": {
   "codemirror_mode": {
    "name": "ipython",
    "version": 3
   },
   "file_extension": ".py",
   "mimetype": "text/x-python",
   "name": "python",
   "nbconvert_exporter": "python",
   "pygments_lexer": "ipython3",
   "version": "3.8.3"
  }
 },
 "nbformat": 4,
 "nbformat_minor": 2
}
