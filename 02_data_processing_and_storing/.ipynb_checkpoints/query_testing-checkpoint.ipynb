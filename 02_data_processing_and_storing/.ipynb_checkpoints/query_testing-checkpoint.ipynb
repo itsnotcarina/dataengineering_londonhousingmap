{
 "cells": [
  {
   "cell_type": "markdown",
   "metadata": {},
   "source": [
    "**Load dependencies**"
   ]
  },
  {
   "cell_type": "code",
   "execution_count": 2,
   "metadata": {},
   "outputs": [],
   "source": [
    "import pg8000"
   ]
  },
  {
   "cell_type": "markdown",
   "metadata": {},
   "source": [
    "**Connect to database**"
   ]
  },
  {
   "cell_type": "code",
   "execution_count": 13,
   "metadata": {},
   "outputs": [],
   "source": [
    "def db_connect():\n",
    "    return pg8000.connect(\n",
    "        host=\"ec2-3-90-70-174.compute-1.amazonaws.com\",\n",
    "        user=\"udguupb1f5lw\",\n",
    "        password=\"p5my2ndc684k7zwliapippr2t0qdni6md\",\n",
    "        database=\"dzfmncgs98eje5f3qgw2rmg\"\n",
    "    )"
   ]
  },
  {
   "cell_type": "code",
   "execution_count": 14,
   "metadata": {},
   "outputs": [],
   "source": [
    "#build connection\n",
    "conn = db_connect()"
   ]
  },
  {
   "cell_type": "markdown",
   "metadata": {},
   "source": [
    "**Run queries**"
   ]
  },
  {
   "cell_type": "code",
   "execution_count": 11,
   "metadata": {},
   "outputs": [
    {
     "name": "stdout",
     "output_type": "stream",
     "text": [
      "()\n"
     ]
    }
   ],
   "source": [
    "#basic query syntax\n",
    "\n",
    "config = {\n",
    "    \"database\": \"postgres\",\n",
    "    \"user\": \"postgres\",\n",
    "    \"password\": \"qwerty123\",\n",
    "    \"host\": \"db-group1.crhso94tou3n.eu-west-2.rds.amazonaws.com\",\n",
    "    \"port\": 5432,\n",
    "}\n",
    "\n",
    "\n",
    "class PGWrapper:\n",
    "    def __init__(self, config, autocommit=True):\n",
    "        self.__autocommit = autocommit\n",
    "        self.__config = config\n",
    "\n",
    "    def __enter__(self):\n",
    "        return self.connect()\n",
    "\n",
    "    def __exit__(self, type, value, traceback):\n",
    "        self.close()\n",
    "\n",
    "    def connect(self):\n",
    "        self.cnx = pg8000.connect(**self.__config)\n",
    "        self.cnx.autocommit = self.__autocommit\n",
    "        self.cursor = self.cnx.cursor()\n",
    "        return self\n",
    "\n",
    "    def close(self):\n",
    "        try:\n",
    "            self.cursor.close()\n",
    "            self.cnx.close()\n",
    "        except Exception:\n",
    "            pass\n",
    "\n",
    "    def query(self, sql, parameters=tuple()):\n",
    "        self.cursor.execute(sql, parameters)\n",
    "        try:\n",
    "            results = self.cursor.fetchall()\n",
    "            return results\n",
    "        except:\n",
    "            return\n",
    "\n",
    "    def query_as_list_of_dicts(self, sql, parameters=tuple()):\n",
    "        self.cursor.execute(sql, parameters)\n",
    "        results = []\n",
    "        if self.cursor.description:\n",
    "            cols = [h[0] for h in self.cursor.description]\n",
    "            for row in self.cursor.fetchall():\n",
    "                results.append({a: b for a, b in zip(cols, row)})\n",
    "        return results\n",
    "\n",
    "    def commit(self):\n",
    "        self.cnx.commit()\n",
    "\n",
    "    def rollback(self):\n",
    "        self.cnx.rollback()\n",
    "\n",
    "\n",
    "db_connection=PGWrapper(config)\n",
    "\n",
    "db_connection.connect()\n",
    "\n",
    "#results= db_connection.query(\"SELECT schema_name FROM information_schema.schemata\")\n",
    "#print(results)\n",
    "\n",
    "\n",
    "\n",
    "results= db_connection.query(\"SELECT * FROM schema_housing.dexter\")\n",
    "print(results)"
   ]
  },
  {
   "cell_type": "code",
   "execution_count": 36,
   "metadata": {},
   "outputs": [
    {
     "name": "stdout",
     "output_type": "stream",
     "text": [
      "([1, 'victoria', 45664, 6, UUID('757c7b28-4427-48cd-9e37-70f7116c75b0'), datetime.datetime(2021, 3, 13, 12, 58, 49, 106492)], [2, 'district', 345345, 7, UUID('b28d9cd9-18ed-43e9-9fd7-35a6fa42245c'), datetime.datetime(2021, 3, 13, 12, 58, 49, 106492)], [3, 'district', 4535, 4, UUID('4445f9db-14cf-4b3f-aa4a-f1e9e9dd4bbb'), datetime.datetime(2021, 3, 13, 12, 58, 49, 106492)], [4, 'victoria', 4, 5, UUID('6149bfe3-6b55-43dd-90eb-97f99a27e906'), datetime.datetime(2021, 3, 13, 12, 58, 49, 106492)])\n"
     ]
    }
   ],
   "source": [
    "results= db_connection.query(\"SELECT * FROM public.test\")\n",
    "print(results)"
   ]
  },
  {
   "cell_type": "code",
   "execution_count": null,
   "metadata": {},
   "outputs": [],
   "source": [
    "#template: transform sql table to df\n",
    "table_name = 'my_prices'\n",
    "df = pd.read_sql_table(table_name, engine)\n",
    "\n",
    "pandas_read_sql_query\n",
    "df = pd.read_sql_query(\"SELECT instrument, price, date FROM my_prices;\", engine)"
   ]
  }
 ],
 "metadata": {
  "kernelspec": {
   "display_name": "Python 3",
   "language": "python",
   "name": "python3"
  },
  "language_info": {
   "codemirror_mode": {
    "name": "ipython",
    "version": 3
   },
   "file_extension": ".py",
   "mimetype": "text/x-python",
   "name": "python",
   "nbconvert_exporter": "python",
   "pygments_lexer": "ipython3",
   "version": "3.8.3"
  }
 },
 "nbformat": 4,
 "nbformat_minor": 4
}
