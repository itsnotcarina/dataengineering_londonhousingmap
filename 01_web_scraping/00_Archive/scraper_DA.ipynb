{
 "cells": [
  {
   "cell_type": "code",
   "execution_count": 3,
   "metadata": {
    "scrolled": false
   },
   "outputs": [
    {
     "name": "stdout",
     "output_type": "stream",
     "text": [
      "Collecting bs4\n",
      "  Downloading bs4-0.0.1.tar.gz (1.1 kB)\n",
      "Requirement already satisfied: beautifulsoup4 in /Applications/anaconda3/lib/python3.8/site-packages (from bs4) (4.9.3)\n",
      "Requirement already satisfied: soupsieve>1.2 in /Applications/anaconda3/lib/python3.8/site-packages (from beautifulsoup4->bs4) (2.2)\n",
      "Building wheels for collected packages: bs4\n",
      "  Building wheel for bs4 (setup.py) ... \u001b[?25ldone\n",
      "\u001b[?25h  Created wheel for bs4: filename=bs4-0.0.1-py3-none-any.whl size=1273 sha256=5f32946a00fd9bd19f92d9eba14956e5f65eacd18932a181802ac60964b5a80e\n",
      "  Stored in directory: /Users/danielaavramioti/Library/Caches/pip/wheels/75/78/21/68b124549c9bdc94f822c02fb9aa3578a669843f9767776bca\n",
      "Successfully built bs4\n",
      "Installing collected packages: bs4\n",
      "Successfully installed bs4-0.0.1\n"
     ]
    }
   ],
   "source": [
    "!pip install bs4"
   ]
  },
  {
   "cell_type": "code",
   "execution_count": 41,
   "metadata": {},
   "outputs": [
    {
     "name": "stdout",
     "output_type": "stream",
     "text": [
      "Requirement already satisfied: beautifulsoup4 in /Applications/anaconda3/lib/python3.8/site-packages (4.9.3)\r\n",
      "Requirement already satisfied: soupsieve>1.2 in /Applications/anaconda3/lib/python3.8/site-packages (from beautifulsoup4) (2.2)\r\n"
     ]
    }
   ],
   "source": [
    "!pip install beautifulsoup4"
   ]
  },
  {
   "cell_type": "code",
   "execution_count": 5,
   "metadata": {
    "scrolled": false
   },
   "outputs": [
    {
     "name": "stdout",
     "output_type": "stream",
     "text": [
      "Collecting lxml\n",
      "  Downloading lxml-4.6.2-cp38-cp38-macosx_10_9_x86_64.whl (4.6 MB)\n",
      "\u001b[K     |████████████████████████████████| 4.6 MB 13.6 MB/s eta 0:00:01\n",
      "\u001b[?25hInstalling collected packages: lxml\n",
      "Successfully installed lxml-4.6.2\n"
     ]
    }
   ],
   "source": [
    "!pip install lxml"
   ]
  },
  {
   "cell_type": "code",
   "execution_count": 5,
   "metadata": {},
   "outputs": [
    {
     "name": "stdout",
     "output_type": "stream",
     "text": [
      "Requirement already satisfied: requests in /Applications/anaconda3/lib/python3.8/site-packages (2.25.1)\r\n",
      "Requirement already satisfied: certifi>=2017.4.17 in /Applications/anaconda3/lib/python3.8/site-packages (from requests) (2020.12.5)\r\n",
      "Requirement already satisfied: idna<3,>=2.5 in /Applications/anaconda3/lib/python3.8/site-packages (from requests) (2.10)\r\n",
      "Requirement already satisfied: urllib3<1.27,>=1.21.1 in /Applications/anaconda3/lib/python3.8/site-packages (from requests) (1.26.3)\r\n",
      "Requirement already satisfied: chardet<5,>=3.0.2 in /Applications/anaconda3/lib/python3.8/site-packages (from requests) (4.0.0)\r\n"
     ]
    }
   ],
   "source": [
    "!pip install requests"
   ]
  },
  {
   "cell_type": "code",
   "execution_count": 7,
   "metadata": {},
   "outputs": [],
   "source": [
    "import pandas as pd\n",
    "import numpy as np\n",
    "import matplotlib.pyplot as plt\n",
    "import time\n",
    "from bs4 import BeautifulSoup\n",
    "import requests\n",
    "import re\n",
    "import lxml"
   ]
  },
  {
   "cell_type": "code",
   "execution_count": 23,
   "metadata": {},
   "outputs": [
    {
     "data": {
      "text/plain": [
       "[<span aria-hidden=\"true\" class=\"e1uy4ban0 css-1vahvic-StyledIcon-Icon e15462ye0\" color=\"grey-steel\" data-testid=\"bed\" role=\"presentation\"><svg viewbox=\"0 0 20 20\" xmlns=\"http://www.w3.org/2000/svg\"><path clip-rule=\"evenodd\" d=\"M2.288 4.375c0-.69.56-1.25 1.25-1.25h12.924c.69 0 1.25.56 1.25 1.25v3.492a4.074 4.074 0 00-.349-.139A2 2 0 0015.5 5h-3a2 2 0 00-1.937 2.5h-.626A2.004 2.004 0 008 5H4.5a2 2 0 00-1.863 2.728 4.074 4.074 0 00-.349.139V4.375zm-1.5 4.72v-4.72a2.75 2.75 0 012.75-2.75h12.924a2.75 2.75 0 012.75 2.75v4.72c.338.492.538 1.077.538 1.724v.857a.746.746 0 01-.114.397c.225.234.364.552.364.903v2.295a1.3 1.3 0 01-.941 1.25c.433.553.691 1.25.691 2.008h-1.5c0-.974-.789-1.762-1.762-1.762H3.512c-.973 0-1.762.788-1.762 1.762H.25c0-.758.258-1.455.691-2.008A1.3 1.3 0 010 15.27v-2.295c0-.35.139-.669.364-.903a.747.747 0 01-.114-.397v-.857c0-.647.2-1.232.538-1.724zM4.5 6.5H8a.5.5 0 01.03 1H4.47a.5.5 0 01.03-1zm0 2.5h-.499c-1.357 0-2.25.919-2.25 1.82v.856h16.5v-.857c0-.9-.895-1.82-2.25-1.82h-.442L15.5 9h-11zm7.97-1.5h3.06a.5.5 0 00-.03-1h-3a.5.5 0 00-.03 1zM1.5 15.07v-1.894h17v1.895h-17z\" fill-rule=\"evenodd\"></path></svg></span>,\n",
       " <span aria-hidden=\"true\" class=\"e1uy4ban0 css-1vahvic-StyledIcon-Icon e15462ye0\" color=\"grey-steel\" data-testid=\"bath\" role=\"presentation\"><svg viewbox=\"0 0 21 20\" xmlns=\"http://www.w3.org/2000/svg\"><path clip-rule=\"evenodd\" d=\"M13.017 2.936A3.093 3.093 0 0115.905.95h.708A3.487 3.487 0 0120.1 4.437v7.69a.752.752 0 01-.017.16v1.382c0 1.707-1.009 3.156-2.46 3.886.3.407.479.91.479 1.456h-1.5a.95.95 0 00-.95-.95H5.607a.95.95 0 00-.95.95h-1.5c0-.51.156-.983.422-1.376-1.541-.7-2.628-2.194-2.628-3.966v-2.602c0-.121-.117-.291-.352-.291H.05v-1.5h.549c.982 0 1.852.762 1.852 1.79v.031h16.132v-1.071c0-.054.006-.107.017-.158V4.437c0-1.098-.89-1.987-1.987-1.987h-.708a1.59 1.59 0 00-1.322.706c.55.209 1.058.56 1.466 1.052l.82.989a1.5 1.5 0 01-1.154 2.457h-4.8a1.5 1.5 0 01-1.154-2.457l.82-.99a3.531 3.531 0 012.436-1.271zM2.451 13.669v-1.072h16.132v1.072c0 1.557-1.35 2.892-3.107 2.892H5.558c-1.757 0-3.107-1.335-3.107-2.892zm13.264-7.515h-4.8l.82-.988c.182-.22.397-.39.632-.512a2.062 2.062 0 011.896 0c.235.122.45.293.632.512l.82.988z\" fill-rule=\"evenodd\"></path></svg></span>,\n",
       " <span aria-hidden=\"true\" class=\"e1uy4ban0 css-1vahvic-StyledIcon-Icon e15462ye0\" color=\"grey-steel\" data-testid=\"chair\" role=\"presentation\"><svg viewbox=\"0 0 20 20\" xmlns=\"http://www.w3.org/2000/svg\"><path d=\"M4.279 4.749A3.101 3.101 0 017.38 1.647h5.24a3.101 3.101 0 013.1 3.103v2.39c.376-.235.82-.37 1.297-.37a2.441 2.441 0 012.446 2.437 2.42 2.42 0 01-.936 1.916v5.069a.574.574 0 01-.244.47 2.77 2.77 0 01.712 1.857h-1.15c0-.9-.73-1.63-1.63-1.63H3.784c-.9 0-1.63.73-1.63 1.63h-1.15c0-.714.27-1.365.712-1.857a.574.574 0 01-.244-.47v-5.069a2.423 2.423 0 01-.936-1.916A2.441 2.441 0 012.982 6.77c.476 0 .92.135 1.297.37V4.75zm.197 9.081a.576.576 0 01-.197-.433m0-2.328V9.2a1.291 1.291 0 00-1.297-1.28c-.718 0-1.296.579-1.296 1.287 0 .475.257.89.646 1.112.18.103.29.293.29.5v4.798h14.756v-4.799c0-.206.11-.396.29-.499.39-.223.646-.637.646-1.112 0-.708-.578-1.287-1.296-1.287-.72 0-1.297.579-1.297 1.287v4.19a.575.575 0 01-.575.576H4.854a.572.572 0 01-.378-.142m10.095-3.336V4.749a1.951 1.951 0 00-1.951-1.952H7.38A1.951 1.951 0 005.43 4.75v5.745h9.142zm0 2.328H5.43v-1.178h9.142v1.178z\"></path></svg></span>]"
      ]
     },
     "execution_count": 23,
     "metadata": {},
     "output_type": "execute_result"
    }
   ],
   "source": [
    "#sample to scrape features\n",
    "html_text = requests.get('https://www.zoopla.co.uk/for-sale/property/canary-wharf/?page_size=25&q=canary%20wharf&radius=0&results_sort=newest_listings&search_source=refine%22').text\n",
    "soup = BeautifulSoup(html_text, 'lxml')\n",
    "ad = soup.find('div', class_ = 'css-wfndrn-StyledContent e2uk8e18')\n",
    "\n",
    "\n",
    "#find feature section\n",
    "feature_section = ad.find('div', class_ = 'css-58bgfg-WrapperFeatures e2uk8e15')\n",
    "\n",
    "\n",
    "#find feature category\n",
    "category = feature_section.find_all('span', class_ = 'e1uy4ban0 css-1vahvic-StyledIcon-Icon e15462ye0')\n",
    "category"
   ]
  },
  {
   "cell_type": "code",
   "execution_count": 30,
   "metadata": {},
   "outputs": [
    {
     "name": "stdout",
     "output_type": "stream",
     "text": [
      "['bed', 'bath', 'chair']\n",
      "['3', '2', '1']\n"
     ]
    }
   ],
   "source": [
    "#sample to scrape features\n",
    "html_text = requests.get('https://www.zoopla.co.uk/for-sale/property/canary-wharf/?page_size=25&q=canary%20wharf&radius=0&results_sort=newest_listings&search_source=refine%22').text\n",
    "soup = BeautifulSoup(html_text, 'lxml')\n",
    "ad = soup.find('div', class_ = 'css-wfndrn-StyledContent e2uk8e18')\n",
    "\n",
    "\n",
    "#find feature section\n",
    "feature_section = ad.find('div', class_ = 'css-58bgfg-WrapperFeatures e2uk8e15')\n",
    "\n",
    "\n",
    "#find feature category\n",
    "category = feature_section.find_all('span', class_ = 'e1uy4ban0 css-1vahvic-StyledIcon-Icon e15462ye0')\n",
    "category\n",
    "\n",
    "        \n",
    "#extracting features\n",
    "types = list()\n",
    "numbers = list()\n",
    "for x in range(len(category)):\n",
    "    s=str(category[x])\n",
    "    types.append(re.search(r'(?<=data-testid=\").*?(?=\" role=\"presentation\")', s).group(0))\n",
    "    \n",
    "\n",
    "features_nrs = feature_section.find_all('p', class_= 'css-ulgz99-Text eczcs4p0')\n",
    "number_features=[]\n",
    "for j in range(len(features_nrs)):\n",
    "    s = str(features_nrs[j])\n",
    "    number_features.append(re.search(r'(?<=data-testid=\"text\">).*?(?=</p>)', s).group(0))\n",
    "\n",
    "\n",
    "print(types)\n",
    "print(number_features)"
   ]
  },
  {
   "cell_type": "code",
   "execution_count": 6,
   "metadata": {},
   "outputs": [
    {
     "ename": "TypeError",
     "evalue": "unsupported operand type(s) for +=: 'builtin_function_or_method' and 'int'",
     "output_type": "error",
     "traceback": [
      "\u001b[0;31m---------------------------------------------------------------------------\u001b[0m",
      "\u001b[0;31mTypeError\u001b[0m                                 Traceback (most recent call last)",
      "\u001b[0;32m<ipython-input-6-7e69fcd745f0>\u001b[0m in \u001b[0;36m<module>\u001b[0;34m\u001b[0m\n\u001b[1;32m     14\u001b[0m \u001b[0;32mfor\u001b[0m \u001b[0mk\u001b[0m \u001b[0;32min\u001b[0m \u001b[0mrange\u001b[0m\u001b[0;34m(\u001b[0m\u001b[0mlen\u001b[0m\u001b[0;34m(\u001b[0m\u001b[0mads\u001b[0m\u001b[0;34m)\u001b[0m\u001b[0;34m)\u001b[0m\u001b[0;34m:\u001b[0m\u001b[0;34m\u001b[0m\u001b[0;34m\u001b[0m\u001b[0m\n\u001b[1;32m     15\u001b[0m     \u001b[0mad\u001b[0m \u001b[0;34m=\u001b[0m \u001b[0mads\u001b[0m\u001b[0;34m[\u001b[0m\u001b[0mk\u001b[0m\u001b[0;34m]\u001b[0m\u001b[0;34m\u001b[0m\u001b[0;34m\u001b[0m\u001b[0m\n\u001b[0;32m---> 16\u001b[0;31m     \u001b[0mid\u001b[0m \u001b[0;34m+=\u001b[0m \u001b[0;36m1\u001b[0m\u001b[0;34m\u001b[0m\u001b[0;34m\u001b[0m\u001b[0m\n\u001b[0m\u001b[1;32m     17\u001b[0m     \u001b[0mmap\u001b[0m\u001b[0;34m[\u001b[0m\u001b[0mid\u001b[0m\u001b[0;34m]\u001b[0m \u001b[0;34m=\u001b[0m \u001b[0;34m{\u001b[0m\u001b[0;34m}\u001b[0m\u001b[0;34m\u001b[0m\u001b[0;34m\u001b[0m\u001b[0m\n\u001b[1;32m     18\u001b[0m \u001b[0;34m\u001b[0m\u001b[0m\n",
      "\u001b[0;31mTypeError\u001b[0m: unsupported operand type(s) for +=: 'builtin_function_or_method' and 'int'"
     ]
    }
   ],
   "source": [
    "#sample code to test extracting the bedroom, bathroom and living rooms:\n",
    "\n",
    "html_text = requests.get(\"https://www.zoopla.co.uk/for-sale/property/canary-wharf/?page_size=25&q=canary%20wharf&radius=0&results_sort=newest_listings&search_source=refine\").text\n",
    "soup = BeautifulSoup(html_text, 'lxml')\n",
    "\n",
    "ads = soup.find_all('div', class_ = 'css-wfndrn-StyledContent e2uk8e18')\n",
    "\n",
    "page_nav = soup.find_all('a', class_ = 'css-7lz865-StyledPaginationLink eaoxhri5')\n",
    "# if(len(page_nav) == 0): \n",
    "#     print(\"max page number: %d\" % (p))\n",
    "#     end = time.time()\n",
    "#     print(end - start)\n",
    "    \n",
    "for k in range(len(ads)):\n",
    "    ad = ads[k]\n",
    "    id += 1\n",
    "    map[id] = {}\n",
    "\n",
    "    price = ad.find('p', class_ = 'css-18tfumg-Text eczcs4p0').text\n",
    "    subway_section = ad.find('div', class_ = 'css-braguw-TransportWrapper e2uk8e28')\n",
    "    subway_information = subway_section.find_all('p', class_ = 'css-wfe1rf-Text eczcs4p0')\n",
    "    features_section = ad.find('div', class_ = 'css-58bgfg-WrapperFeatures e2uk8e15')\n",
    "    features = features_section.find_all('p', class_= 'css-ulgz99-Text eczcs4p0')\n",
    "    distances = []\n",
    "    subway_station = []\n",
    "\n",
    "    map[id][\"price\"] = price\n",
    "    map[id][\"distance\"] = []\n",
    "    map[id][\"address\"] = []\n",
    "    for i in range(len(subway_information)):\n",
    "        s = subway_information[i].text\n",
    "        x = s.split(' miles ')\n",
    "        if len(x) == 1: continue\n",
    "\n",
    "        map[id][\"distance\"].append(float(x[0]))\n",
    "        map[id][\"address\"].append(x[1])\n",
    "    number_features=[]\n",
    "    for j in range(len(features)):\n",
    "        s = str(features[j])\n",
    "        number_features.append(re.search(r'(?<=data-testid=\"text\">).*?(?=</p>)', s).group(0))\n",
    "        continue\n",
    "        map[id][\"bedroom\"].append(float(number_features[0]))\n",
    "        map[id][\"bathroom\"].append(number_features[1])\n",
    "        map[id][\"living_room\"].append(number_features[2])\n"
   ]
  },
  {
   "cell_type": "code",
   "execution_count": null,
   "metadata": {},
   "outputs": [],
   "source": [
    "print(number_features)\n"
   ]
  },
  {
   "cell_type": "code",
   "execution_count": 3,
   "metadata": {},
   "outputs": [
    {
     "ename": "NameError",
     "evalue": "name 'features' is not defined",
     "output_type": "error",
     "traceback": [
      "\u001b[0;31m---------------------------------------------------------------------------\u001b[0m",
      "\u001b[0;31mNameError\u001b[0m                                 Traceback (most recent call last)",
      "\u001b[0;32m<ipython-input-3-224628ecf868>\u001b[0m in \u001b[0;36m<module>\u001b[0;34m\u001b[0m\n\u001b[0;32m----> 1\u001b[0;31m \u001b[0mfeatures\u001b[0m\u001b[0;34m\u001b[0m\u001b[0;34m\u001b[0m\u001b[0m\n\u001b[0m",
      "\u001b[0;31mNameError\u001b[0m: name 'features' is not defined"
     ]
    }
   ],
   "source": [
    "features"
   ]
  },
  {
   "cell_type": "code",
   "execution_count": 77,
   "metadata": {},
   "outputs": [
    {
     "name": "stdout",
     "output_type": "stream",
     "text": [
      "location: Hackney\n",
      "page: 1\n",
      "https://www.zoopla.co.uk/for-sale/property/london/hackney/?page_size=25&q=Hackney%2C+London&results_sort=newest_listings&pn=1\n",
      "max page number: 0\n",
      "2.2627530097961426\n",
      "location: Hammersmith\n",
      "page: 1\n",
      "https://www.zoopla.co.uk/for-sale/property/hammersmith/?q=Hammersmith%2C%20London&pn=1\n",
      "max page number: 0\n",
      "2.062239170074463\n",
      "location: Fulham\n",
      "page: 1\n",
      "https://www.zoopla.co.uk/for-sale/property/fulham/?q=Fulham%2C%20London&pn=1\n",
      "max page number: 0\n",
      "2.9303700923919678\n",
      "location: Islington\n",
      "page: 1\n",
      "https://www.zoopla.co.uk/for-sale/property/london/islington/?page_size=25&q=Islington%2C+London&results_sort=newest_listings&pn=1\n",
      "max page number: 0\n",
      "2.5048530101776123\n",
      "location: Kensington\n",
      "page: 1\n",
      "https://www.zoopla.co.uk/for-sale/property/london/kensington/?page_size=25&q=Kensington%2C+London&results_sort=newest_listings&pn=1\n",
      "max page number: 0\n",
      "3.259890079498291\n",
      "location: Chelsea\n",
      "page: 1\n",
      "https://www.zoopla.co.uk/for-sale/property/chelsea/?q=Chelsea%2C%20London&pn=1\n",
      "max page number: 0\n",
      "2.4656529426574707\n",
      "location: Lambeth\n",
      "page: 1\n",
      "https://www.zoopla.co.uk/for-sale/property/lambeth-london-borough/?q=Lambeth%2C%20London&pn=1\n",
      "max page number: 0\n",
      "7.433178186416626\n",
      "location: Lewisham\n",
      "page: 1\n",
      "https://www.zoopla.co.uk/for-sale/property/lewisham-london-borough/?q=Lewisham%2C%20London&pn=1\n",
      "max page number: 0\n",
      "4.317580938339233\n",
      "location: Southwark\n",
      "page: 1\n",
      "https://www.zoopla.co.uk/for-sale/property/southwark-london-borough/?q=Southwark%2C%20London&pn=1\n",
      "max page number: 0\n",
      "2.1796600818634033\n",
      "location: Tower Hamlets\n",
      "page: 1\n",
      "https://www.zoopla.co.uk/for-sale/property/tower-hamlets-london-borough/?q=Tower%20Hamlets%2C%20London&pn=1\n",
      "max page number: 0\n",
      "2.001304864883423\n",
      "location: Wandsworth\n",
      "page: 1\n",
      "https://www.zoopla.co.uk/for-sale/property/wandsworth-london-borough/?q=Wandsworth%2C%20London&pn=1\n",
      "max page number: 0\n",
      "2.460561990737915\n",
      "location: Westminster\n",
      "page: 1\n",
      "https://www.zoopla.co.uk/for-sale/property/westminster-london-borough/?q=Westminster%2C%20London&pn=1\n",
      "max page number: 0\n",
      "2.351405620574951\n",
      "location: Canary Wharf\n",
      "page: 1\n",
      "https://www.zoopla.co.uk/for-sale/property/canary-wharf/?q=Canary%20Wharf%2C%20London&pn=1\n",
      "max page number: 0\n",
      "2.447779893875122\n",
      "CPU times: user 2 µs, sys: 0 ns, total: 2 µs\n",
      "Wall time: 3.1 µs\n"
     ]
    }
   ],
   "source": [
    "\n",
    "locations = ['Hackney', 'Hammersmith' ,'Fulham' ,'Islington' ,'Kensington' ,'Chelsea' ,'Lambeth' ,'Lewisham' ,'Southwark' ,'Tower Hamlets' ,'Wandsworth' ,'Westminster', 'Canary Wharf']\n",
    "\n",
    "url_1 = \"https://www.zoopla.co.uk/for-sale/property/london/\"\n",
    "url_2 = \"/?page_size=25&q=\"\n",
    "url_3 = \"%2C%20London&results_sort=newest_listings&pn=\"\n",
    "\n",
    "map = {}\n",
    "id = 0\n",
    "\n",
    "max_pages = 1000\n",
    "for location in range(len(locations)):\n",
    "    print(\"location: %s\" % locations[location])\n",
    "    \n",
    "    start = time.time()\n",
    "    \n",
    "    cur_url = url_1 + locations[location] + url_2 + locations[location] + url_3\n",
    "    cur_url = requests.get(cur_url).url + \"&pn=\"\n",
    "    for p in range(max_pages):\n",
    "        cur_url2 = cur_url + str(p + 1)\n",
    "\n",
    "        print(\"page: %d\" % (p + 1))\n",
    "        print(cur_url2)\n",
    "        html_text = requests.get(cur_url2).text\n",
    "        soup = BeautifulSoup(html_text, 'lxml')\n",
    "\n",
    "        ads = soup.find_all('div', class_ = 'css-wfndrn-StyledContent e2uk8e18')\n",
    "\n",
    "        page_nav = soup.find_all('a', class_ = 'css-7lz865-StyledPaginationLink eaoxhri5')\n",
    "        if(len(page_nav) == 0): \n",
    "            print(\"max page number: %d\" % (p))\n",
    "            end = time.time()\n",
    "            print(end - start)\n",
    "            break\n",
    "\n",
    "        for k in range(len(ads)):\n",
    "            ad = ads[k]\n",
    "            id += 1\n",
    "            map[id] = {}\n",
    "\n",
    "            price = ad.find('p', class_ = 'css-18tfumg-Text eczcs4p0').text\n",
    "            subway_section = ad.find('div', class_ = 'css-braguw-TransportWrapper e2uk8e28')\n",
    "            subway_information = subway_section.find_all('p', class_ = 'css-wfe1rf-Text eczcs4p0')\n",
    "            features_section = ad.find('div', class_ = 'css-58bgfg-WrapperFeatures e2uk8e15')\n",
    "            features = features_section.find_all('p', class_ = 'css-ulgz99-Text eczcs4p0')\n",
    "            distances = []\n",
    "            subway_station = []\n",
    "\n",
    "            map[id][\"price\"] = price\n",
    "            map[id][\"distance\"] = []\n",
    "            map[id][\"address\"] = []\n",
    "            for i in range(len(subway_information)):\n",
    "                s = subway_information[i].text\n",
    "                x = s.split(' miles ')\n",
    "                if len(x) == 1: continue\n",
    "\n",
    "                map[id][\"distance\"].append(float(x[0]))\n",
    "                map[id][\"address\"].append(x[1])\n",
    "            number_features=[]\n",
    "            for j in range(len(features)):\n",
    "                s = str(features[j])\n",
    "                number_features.append(re.search(r'(?<=data-testid=\"text\">).*?(?=</p>)', s).group(0))\n",
    "\n",
    "                continue\n",
    "                map[id][\"bedroom\"].append(float(number_features[0]))\n",
    "                map[id][\"bathroom\"].append(number_features[1])\n",
    "                map[id][\"living_room\"].append(number_features[2])\n",
    "%time"
   ]
  },
  {
   "cell_type": "code",
   "execution_count": 78,
   "metadata": {},
   "outputs": [],
   "source": [
    "result = []\n",
    "cur_row = 0\n",
    "for cur_id in map.keys():\n",
    "    cur_price = map[cur_id][\"price\"]\n",
    "    cur_bedrooms = map[cur_id][\"bedroom\"]\n",
    "    cur_bathrooms = map[cur_id][\"bathroom\"]\n",
    "    cur_living_room = map[cur_id][\"living_room\"]\n",
    "    for idx in range(len(map[id][\"distance\"])):\n",
    "        result.append([])\n",
    "        result[cur_row].append(str(cur_id))\n",
    "        result[cur_row].append(str(cur_price))\n",
    "        result[cur_row].append(str(map[cur_id][\"distance\"][idx]))\n",
    "        result[cur_row].append(str(map[cur_id][\"address\"][idx]))\n",
    "        cur_row += 1\n",
    "    print(cur_row)\n",
    "    "
   ]
  },
  {
   "cell_type": "code",
   "execution_count": 79,
   "metadata": {
    "scrolled": false
   },
   "outputs": [
    {
     "name": "stdout",
     "output_type": "stream",
     "text": [
      "Empty DataFrame\n",
      "Columns: [id, price, distance, address, bedrooms, bathrooms, living_room]\n",
      "Index: []\n"
     ]
    }
   ],
   "source": [
    "df = pd.DataFrame(result, columns = [\"id\", \"price\", \"distance\", \"address\", \"bedrooms\", \"bathrooms\", \"living_room\"])\n",
    "print(df)"
   ]
  },
  {
   "cell_type": "code",
   "execution_count": null,
   "metadata": {},
   "outputs": [],
   "source": []
  }
 ],
 "metadata": {
  "kernelspec": {
   "display_name": "Python 3",
   "language": "python",
   "name": "python3"
  },
  "language_info": {
   "codemirror_mode": {
    "name": "ipython",
    "version": 3
   },
   "file_extension": ".py",
   "mimetype": "text/x-python",
   "name": "python",
   "nbconvert_exporter": "python",
   "pygments_lexer": "ipython3",
   "version": "3.8.3"
  }
 },
 "nbformat": 4,
 "nbformat_minor": 4
}
