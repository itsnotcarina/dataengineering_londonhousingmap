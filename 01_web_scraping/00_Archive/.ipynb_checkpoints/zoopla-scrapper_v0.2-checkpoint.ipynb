{
 "cells": [
  {
   "cell_type": "code",
   "execution_count": 3,
   "metadata": {
    "scrolled": false
   },
   "outputs": [
    {
     "name": "stdout",
     "output_type": "stream",
     "text": [
      "Collecting bs4\n",
      "  Downloading bs4-0.0.1.tar.gz (1.1 kB)\n",
      "Requirement already satisfied: beautifulsoup4 in /Applications/anaconda3/lib/python3.8/site-packages (from bs4) (4.9.3)\n",
      "Requirement already satisfied: soupsieve>1.2 in /Applications/anaconda3/lib/python3.8/site-packages (from beautifulsoup4->bs4) (2.2)\n",
      "Building wheels for collected packages: bs4\n",
      "  Building wheel for bs4 (setup.py) ... \u001b[?25ldone\n",
      "\u001b[?25h  Created wheel for bs4: filename=bs4-0.0.1-py3-none-any.whl size=1273 sha256=5f32946a00fd9bd19f92d9eba14956e5f65eacd18932a181802ac60964b5a80e\n",
      "  Stored in directory: /Users/danielaavramioti/Library/Caches/pip/wheels/75/78/21/68b124549c9bdc94f822c02fb9aa3578a669843f9767776bca\n",
      "Successfully built bs4\n",
      "Installing collected packages: bs4\n",
      "Successfully installed bs4-0.0.1\n"
     ]
    }
   ],
   "source": [
    "!pip install bs4"
   ]
  },
  {
   "cell_type": "code",
   "execution_count": 41,
   "metadata": {},
   "outputs": [
    {
     "name": "stdout",
     "output_type": "stream",
     "text": [
      "Requirement already satisfied: beautifulsoup4 in /Applications/anaconda3/lib/python3.8/site-packages (4.9.3)\r\n",
      "Requirement already satisfied: soupsieve>1.2 in /Applications/anaconda3/lib/python3.8/site-packages (from beautifulsoup4) (2.2)\r\n"
     ]
    }
   ],
   "source": [
    "!pip install beautifulsoup4"
   ]
  },
  {
   "cell_type": "code",
   "execution_count": 5,
   "metadata": {
    "scrolled": false
   },
   "outputs": [
    {
     "name": "stdout",
     "output_type": "stream",
     "text": [
      "Collecting lxml\n",
      "  Downloading lxml-4.6.2-cp38-cp38-macosx_10_9_x86_64.whl (4.6 MB)\n",
      "\u001b[K     |████████████████████████████████| 4.6 MB 13.6 MB/s eta 0:00:01\n",
      "\u001b[?25hInstalling collected packages: lxml\n",
      "Successfully installed lxml-4.6.2\n"
     ]
    }
   ],
   "source": [
    "!pip install lxml"
   ]
  },
  {
   "cell_type": "code",
   "execution_count": 5,
   "metadata": {},
   "outputs": [
    {
     "name": "stdout",
     "output_type": "stream",
     "text": [
      "Requirement already satisfied: requests in /Applications/anaconda3/lib/python3.8/site-packages (2.25.1)\r\n",
      "Requirement already satisfied: certifi>=2017.4.17 in /Applications/anaconda3/lib/python3.8/site-packages (from requests) (2020.12.5)\r\n",
      "Requirement already satisfied: idna<3,>=2.5 in /Applications/anaconda3/lib/python3.8/site-packages (from requests) (2.10)\r\n",
      "Requirement already satisfied: urllib3<1.27,>=1.21.1 in /Applications/anaconda3/lib/python3.8/site-packages (from requests) (1.26.3)\r\n",
      "Requirement already satisfied: chardet<5,>=3.0.2 in /Applications/anaconda3/lib/python3.8/site-packages (from requests) (4.0.0)\r\n"
     ]
    }
   ],
   "source": [
    "!pip install requests"
   ]
  },
  {
   "cell_type": "code",
   "execution_count": 1,
   "metadata": {},
   "outputs": [],
   "source": [
    "import pandas as pd\n",
    "import numpy as np\n",
    "import matplotlib.pyplot as plt\n",
    "import time\n",
    "from bs4 import BeautifulSoup\n",
    "import requests\n",
    "import re\n",
    "import lxml"
   ]
  },
  {
   "cell_type": "code",
   "execution_count": 75,
   "metadata": {},
   "outputs": [
    {
     "name": "stdout",
     "output_type": "stream",
     "text": [
      "max page number: 0\n",
      "336.5162580013275\n"
     ]
    }
   ],
   "source": [
    "#sample code to test extracting the bedroom, bathroom and living rooms:\n",
    "\n",
    "html_text = requests.get(\"https://www.zoopla.co.uk/for-sale/property/canary-wharf/?page_size=25&q=canary%20wharf&radius=0&results_sort=newest_listings&search_source=refine\").text\n",
    "soup = BeautifulSoup(html_text, 'lxml')\n",
    "\n",
    "ads = soup.find_all('div', class_ = 'css-wfndrn-StyledContent e2uk8e18')\n",
    "\n",
    "page_nav = soup.find_all('a', class_ = 'css-7lz865-StyledPaginationLink eaoxhri5')\n",
    "if(len(page_nav) == 0): \n",
    "    print(\"max page number: %d\" % (p))\n",
    "    end = time.time()\n",
    "    print(end - start)\n",
    "    \n",
    "for k in range(len(ads)):\n",
    "    ad = ads[k]\n",
    "    id += 1\n",
    "    map[id] = {}\n",
    "\n",
    "    price = ad.find('p', class_ = 'css-18tfumg-Text eczcs4p0').text\n",
    "    subway_section = ad.find('div', class_ = 'css-braguw-TransportWrapper e2uk8e28')\n",
    "    subway_information = subway_section.find_all('p', class_ = 'css-wfe1rf-Text eczcs4p0')\n",
    "    features_section = ad.find('div', class_ = 'css-58bgfg-WrapperFeatures e2uk8e15')\n",
    "    features = features_section.find_all('p', class_= 'css-ulgz99-Text eczcs4p0')\n",
    "    distances = []\n",
    "    subway_station = []\n",
    "\n",
    "    map[id][\"price\"] = price\n",
    "    map[id][\"distance\"] = []\n",
    "    map[id][\"address\"] = []\n",
    "    for i in range(len(subway_information)):\n",
    "        s = subway_information[i].text\n",
    "        x = s.split(' miles ')\n",
    "        if len(x) == 1: continue\n",
    "\n",
    "        map[id][\"distance\"].append(float(x[0]))\n",
    "        map[id][\"address\"].append(x[1])\n",
    "    number_features=[]\n",
    "    for j in range(len(features)):\n",
    "        s = str(features[j])\n",
    "        number_features.append(re.search(r'(?<=data-testid=\"text\">).*?(?=</p>)', s).group(0))\n",
    "        continue\n",
    "        map[id][\"bedroom\"].append(float(number_features[0]))\n",
    "        map[id][\"bathroom\"].append(number_features[1])\n",
    "        map[id][\"living_room\"].append(number_features[2])\n"
   ]
  },
  {
   "cell_type": "code",
   "execution_count": 76,
   "metadata": {},
   "outputs": [
    {
     "name": "stdout",
     "output_type": "stream",
     "text": [
      "['1', '1', '1']\n"
     ]
    }
   ],
   "source": [
    "print(number_features)\n"
   ]
  },
  {
   "cell_type": "code",
   "execution_count": 77,
   "metadata": {},
   "outputs": [
    {
     "name": "stdout",
     "output_type": "stream",
     "text": [
      "location: Hackney\n",
      "page: 1\n",
      "https://www.zoopla.co.uk/for-sale/property/london/hackney/?page_size=25&q=Hackney%2C+London&results_sort=newest_listings&pn=1\n",
      "max page number: 0\n",
      "2.2627530097961426\n",
      "location: Hammersmith\n",
      "page: 1\n",
      "https://www.zoopla.co.uk/for-sale/property/hammersmith/?q=Hammersmith%2C%20London&pn=1\n",
      "max page number: 0\n",
      "2.062239170074463\n",
      "location: Fulham\n",
      "page: 1\n",
      "https://www.zoopla.co.uk/for-sale/property/fulham/?q=Fulham%2C%20London&pn=1\n",
      "max page number: 0\n",
      "2.9303700923919678\n",
      "location: Islington\n",
      "page: 1\n",
      "https://www.zoopla.co.uk/for-sale/property/london/islington/?page_size=25&q=Islington%2C+London&results_sort=newest_listings&pn=1\n",
      "max page number: 0\n",
      "2.5048530101776123\n",
      "location: Kensington\n",
      "page: 1\n",
      "https://www.zoopla.co.uk/for-sale/property/london/kensington/?page_size=25&q=Kensington%2C+London&results_sort=newest_listings&pn=1\n",
      "max page number: 0\n",
      "3.259890079498291\n",
      "location: Chelsea\n",
      "page: 1\n",
      "https://www.zoopla.co.uk/for-sale/property/chelsea/?q=Chelsea%2C%20London&pn=1\n",
      "max page number: 0\n",
      "2.4656529426574707\n",
      "location: Lambeth\n",
      "page: 1\n",
      "https://www.zoopla.co.uk/for-sale/property/lambeth-london-borough/?q=Lambeth%2C%20London&pn=1\n",
      "max page number: 0\n",
      "7.433178186416626\n",
      "location: Lewisham\n",
      "page: 1\n",
      "https://www.zoopla.co.uk/for-sale/property/lewisham-london-borough/?q=Lewisham%2C%20London&pn=1\n",
      "max page number: 0\n",
      "4.317580938339233\n",
      "location: Southwark\n",
      "page: 1\n",
      "https://www.zoopla.co.uk/for-sale/property/southwark-london-borough/?q=Southwark%2C%20London&pn=1\n",
      "max page number: 0\n",
      "2.1796600818634033\n",
      "location: Tower Hamlets\n",
      "page: 1\n",
      "https://www.zoopla.co.uk/for-sale/property/tower-hamlets-london-borough/?q=Tower%20Hamlets%2C%20London&pn=1\n",
      "max page number: 0\n",
      "2.001304864883423\n",
      "location: Wandsworth\n",
      "page: 1\n",
      "https://www.zoopla.co.uk/for-sale/property/wandsworth-london-borough/?q=Wandsworth%2C%20London&pn=1\n",
      "max page number: 0\n",
      "2.460561990737915\n",
      "location: Westminster\n",
      "page: 1\n",
      "https://www.zoopla.co.uk/for-sale/property/westminster-london-borough/?q=Westminster%2C%20London&pn=1\n",
      "max page number: 0\n",
      "2.351405620574951\n",
      "location: Canary Wharf\n",
      "page: 1\n",
      "https://www.zoopla.co.uk/for-sale/property/canary-wharf/?q=Canary%20Wharf%2C%20London&pn=1\n",
      "max page number: 0\n",
      "2.447779893875122\n",
      "CPU times: user 2 µs, sys: 0 ns, total: 2 µs\n",
      "Wall time: 3.1 µs\n"
     ]
    }
   ],
   "source": [
    "\n",
    "locations = ['Hackney', 'Hammersmith' ,'Fulham' ,'Islington' ,'Kensington' ,'Chelsea' ,'Lambeth' ,'Lewisham' ,'Southwark' ,'Tower Hamlets' ,'Wandsworth' ,'Westminster', 'Canary Wharf']\n",
    "\n",
    "url_1 = \"https://www.zoopla.co.uk/for-sale/property/london/\"\n",
    "url_2 = \"/?page_size=25&q=\"\n",
    "url_3 = \"%2C%20London&results_sort=newest_listings&pn=\"\n",
    "\n",
    "map = {}\n",
    "id = 0\n",
    "\n",
    "max_pages = 1000\n",
    "for location in range(len(locations)):\n",
    "    print(\"location: %s\" % locations[location])\n",
    "    \n",
    "    start = time.time()\n",
    "    \n",
    "    cur_url = url_1 + locations[location] + url_2 + locations[location] + url_3\n",
    "    cur_url = requests.get(cur_url).url + \"&pn=\"\n",
    "    for p in range(max_pages):\n",
    "        cur_url2 = cur_url + str(p + 1)\n",
    "\n",
    "        print(\"page: %d\" % (p + 1))\n",
    "        print(cur_url2)\n",
    "        html_text = requests.get(cur_url2).text\n",
    "        soup = BeautifulSoup(html_text, 'lxml')\n",
    "\n",
    "        ads = soup.find_all('div', class_ = 'css-wfndrn-StyledContent e2uk8e18')\n",
    "            \n",
    "        page_nav = soup.find_all('a', class_ = 'css-7lz865-StyledPaginationLink eaoxhri5')\n",
    "        if(len(page_nav) == 0): \n",
    "            print(\"max page number: %d\" % (p))\n",
    "            end = time.time()\n",
    "            print(end - start)\n",
    "            break\n",
    "\n",
    "        for k in range(len(ads)):\n",
    "            ad = ads[k]\n",
    "            id += 1\n",
    "            map[id] = {}\n",
    "\n",
    "            price = ad.find('p', class_ = 'css-18tfumg-Text eczcs4p0').text\n",
    "            subway_section = ad.find('div', class_ = 'css-braguw-TransportWrapper e2uk8e28')\n",
    "            subway_information = subway_section.find_all('p', class_ = 'css-wfe1rf-Text eczcs4p0')\n",
    "            features_section = ad.find('div', class_ = 'css-58bgfg-WrapperFeatures e2uk8e15')\n",
    "            features = features_section.find_all('p', class_ = 'css-ulgz99-Text eczcs4p0')\n",
    "            distances = []\n",
    "            subway_station = []\n",
    "\n",
    "            map[id][\"price\"] = price\n",
    "            map[id][\"distance\"] = []\n",
    "            map[id][\"address\"] = []\n",
    "            for i in range(len(subway_information)):\n",
    "                s = subway_information[i].text\n",
    "                x = s.split(' miles ')\n",
    "                if len(x) == 1: continue\n",
    "\n",
    "                map[id][\"distance\"].append(float(x[0]))\n",
    "                map[id][\"address\"].append(x[1])\n",
    "            number_features=[]\n",
    "            for j in range(len(features)):\n",
    "                s = str(features[j])\n",
    "                number_features.append(re.search(r'(?<=data-testid=\"text\">).*?(?=</p>)', s).group(0))\n",
    "\n",
    "                continue\n",
    "                map[id][\"bedroom\"].append(float(number_features[0]))\n",
    "                map[id][\"bathroom\"].append(number_features[1])\n",
    "                map[id][\"living_room\"].append(number_features[2])\n",
    "%time"
   ]
  },
  {
   "cell_type": "code",
   "execution_count": 78,
   "metadata": {},
   "outputs": [],
   "source": [
    "result = []\n",
    "cur_row = 0\n",
    "for cur_id in map.keys():\n",
    "    cur_price = map[cur_id][\"price\"]\n",
    "    cur_bedrooms = map[cur_id][\"bedroom\"]\n",
    "    cur_bathrooms = map[cur_id][\"bathroom\"]\n",
    "    cur_living_room = map[cur_id][\"living_room\"]\n",
    "    for idx in range(len(map[id][\"distance\"])):\n",
    "        result.append([])\n",
    "        result[cur_row].append(str(cur_id))\n",
    "        result[cur_row].append(str(cur_price))\n",
    "        result[cur_row].append(str(map[cur_id][\"distance\"][idx]))\n",
    "        result[cur_row].append(str(map[cur_id][\"address\"][idx]))\n",
    "        cur_row += 1\n",
    "    print(cur_row)\n",
    "    "
   ]
  },
  {
   "cell_type": "code",
   "execution_count": 79,
   "metadata": {
    "scrolled": false
   },
   "outputs": [
    {
     "name": "stdout",
     "output_type": "stream",
     "text": [
      "Empty DataFrame\n",
      "Columns: [id, price, distance, address, bedrooms, bathrooms, living_room]\n",
      "Index: []\n"
     ]
    }
   ],
   "source": [
    "df = pd.DataFrame(result, columns = [\"id\", \"price\", \"distance\", \"address\", \"bedrooms\", \"bathrooms\", \"living_room\"])\n",
    "print(df)"
   ]
  },
  {
   "cell_type": "code",
   "execution_count": null,
   "metadata": {},
   "outputs": [],
   "source": []
  }
 ],
 "metadata": {
  "kernelspec": {
   "display_name": "Python 3",
   "language": "python",
   "name": "python3"
  },
  "language_info": {
   "codemirror_mode": {
    "name": "ipython",
    "version": 3
   },
   "file_extension": ".py",
   "mimetype": "text/x-python",
   "name": "python",
   "nbconvert_exporter": "python",
   "pygments_lexer": "ipython3",
   "version": "3.8.3"
  }
 },
 "nbformat": 4,
 "nbformat_minor": 4
}
