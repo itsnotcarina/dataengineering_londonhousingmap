{
 "cells": [
  {
   "cell_type": "markdown",
   "metadata": {},
   "source": [
    "# London Air - Site information collection"
   ]
  },
  {
   "cell_type": "markdown",
   "metadata": {},
   "source": [
    "# 0. Set-up"
   ]
  },
  {
   "cell_type": "code",
   "execution_count": 1,
   "metadata": {},
   "outputs": [],
   "source": [
    "## import liabrairies\n",
    "import pandas as pd\n",
    "import numpy as np\n",
    "import re\n",
    "import requests\n",
    "import json"
   ]
  },
  {
   "cell_type": "markdown",
   "metadata": {},
   "source": [
    "# 1. Functions"
   ]
  },
  {
   "cell_type": "code",
   "execution_count": 2,
   "metadata": {},
   "outputs": [],
   "source": [
    "def request_json(link):\n",
    "    response = requests.get(link)\n",
    "    rep_json = response.text\n",
    "    parsed = json.loads(rep_json)\n",
    "    return parsed"
   ]
  },
  {
   "cell_type": "code",
   "execution_count": 3,
   "metadata": {},
   "outputs": [],
   "source": [
    "## Function to get info on sites\n",
    "\n",
    "def get_info_sites(group_name):\n",
    "\n",
    "    # Get json response for the group\n",
    "    site_request = ('/Information/MonitoringSites/GroupName=' + group_name + '/Json')\n",
    "    link_info = base_api + site_request\n",
    "    info_json = request_json(link_info)\n",
    "    info_json \n",
    "    \n",
    "    # Create empty list to store info during parsing\n",
    "    LocalAuthorityCode = []\n",
    "    LocalAuthorityName = []\n",
    "    SiteCode = []\n",
    "    SiteName = []\n",
    "    SiteType = []\n",
    "    DateClosed = []\n",
    "    DateOpened = []\n",
    "    Latitude = []\n",
    "    Longitude = []\n",
    "    LatitudeWGS84 = []\n",
    "    LongitudeWGS84 = []\n",
    "    DisplayOffsetX = []\n",
    "    DisplayOffsetY = []\n",
    "    DataOwner = []\n",
    "    DataManager = []\n",
    "    SiteLink = []\n",
    "\n",
    "    # Loop through the json file and append storing lists\n",
    "    for i in range(len(info_json['Sites']['Site'])):\n",
    "        root_data = info_json['Sites']['Site']\n",
    "        LocalAuthorityCode.append(root_data[i]['@LocalAuthorityCode'])\n",
    "        LocalAuthorityName.append(root_data[i]['@LocalAuthorityName'])\n",
    "\n",
    "        SiteCode.append(root_data[i]['@SiteCode'])\n",
    "        SiteName.append(root_data[i]['@SiteName'])\n",
    "        SiteType.append(root_data[i]['@SiteType'])\n",
    "\n",
    "        DateClosed.append(root_data[i]['@DateClosed'])\n",
    "        DateOpened.append(root_data[i]['@DateOpened'])\n",
    "\n",
    "        Latitude.append(root_data[i]['@Latitude'])\n",
    "        Longitude.append(root_data[i]['@Longitude'])\n",
    "        LatitudeWGS84.append(root_data[i]['@LatitudeWGS84'])\n",
    "        LongitudeWGS84.append(root_data[i]['@LongitudeWGS84'])\n",
    "        DisplayOffsetX.append(root_data[i]['@DisplayOffsetX'])\n",
    "        DisplayOffsetY.append(root_data[i]['@DisplayOffsetY'])\n",
    "\n",
    "        DataOwner.append(root_data[i]['@DataOwner'])\n",
    "        DataManager.append(root_data[i]['@DataManager'])\n",
    "        SiteLink.append(root_data[i]['@SiteLink'])\n",
    "\n",
    "    # Create final dataframe\n",
    "    df_info_sites = pd.DataFrame(np.column_stack([LocalAuthorityCode, LocalAuthorityName,\n",
    "                                                SiteCode, SiteName, SiteType,\n",
    "                                                DateClosed, DateOpened,\n",
    "                                                Latitude, Longitude, LatitudeWGS84, LongitudeWGS84,\n",
    "                                                DisplayOffsetX, DisplayOffsetY,\n",
    "                                                DataOwner, DataManager, SiteLink]),\n",
    "\n",
    "                                   columns=['LocalAuthorityCode', 'LocalAuthorityName',\n",
    "                                            'SiteCode', 'SiteName', 'SiteType',\n",
    "                                            'DateClosed', 'DateOpened',\n",
    "                                            'Latitude', 'Longitude', 'LatitudeWGS84', 'LongitudeWGS84',\n",
    "                                            'DisplayOffsetX', 'DisplayOffsetY',\n",
    "                                            'DataOwner', 'DataManager', 'SiteLink'])\n",
    "    \n",
    "    # Remove sites that have been closed\n",
    "    df_info_sites = df_info_sites[df_info_sites['DateClosed'] == '']\n",
    "    df_info_sites = df_info_sites.reset_index(drop = True)\n",
    "    \n",
    "    return df_info_sites"
   ]
  },
  {
   "cell_type": "markdown",
   "metadata": {},
   "source": [
    "# 2. Execution"
   ]
  },
  {
   "cell_type": "code",
   "execution_count": 4,
   "metadata": {},
   "outputs": [],
   "source": [
    "base_api = 'https://api.erg.ic.ac.uk/AirQuality'"
   ]
  },
  {
   "cell_type": "code",
   "execution_count": 5,
   "metadata": {},
   "outputs": [],
   "source": [
    "# Execute API request for the site group 'London'\n",
    "df_sites = get_info_sites('London')"
   ]
  },
  {
   "cell_type": "code",
   "execution_count": 6,
   "metadata": {},
   "outputs": [],
   "source": [
    "# Formatting of results for input into PostgreSQL schema\n",
    "col_list = ['SiteCode', 'SiteName', 'Latitude', 'Longitude']\n",
    "df_sites_tosql = df_sites[col_list]\n",
    "\n",
    "df_sites_tosql.columns = ['site_code', 'site_name', ' latitude', 'longitude']"
   ]
  },
  {
   "cell_type": "markdown",
   "metadata": {},
   "source": [
    "# 3. Output"
   ]
  },
  {
   "cell_type": "code",
   "execution_count": 7,
   "metadata": {},
   "outputs": [
    {
     "data": {
      "text/html": [
       "<div>\n",
       "<style scoped>\n",
       "    .dataframe tbody tr th:only-of-type {\n",
       "        vertical-align: middle;\n",
       "    }\n",
       "\n",
       "    .dataframe tbody tr th {\n",
       "        vertical-align: top;\n",
       "    }\n",
       "\n",
       "    .dataframe thead th {\n",
       "        text-align: right;\n",
       "    }\n",
       "</style>\n",
       "<table border=\"1\" class=\"dataframe\">\n",
       "  <thead>\n",
       "    <tr style=\"text-align: right;\">\n",
       "      <th></th>\n",
       "      <th>site_code</th>\n",
       "      <th>site_name</th>\n",
       "      <th>latitude</th>\n",
       "      <th>longitude</th>\n",
       "    </tr>\n",
       "  </thead>\n",
       "  <tbody>\n",
       "    <tr>\n",
       "      <th>0</th>\n",
       "      <td>BG1</td>\n",
       "      <td>Barking and Dagenham - Rush Green</td>\n",
       "      <td>51.563752</td>\n",
       "      <td>0.177891</td>\n",
       "    </tr>\n",
       "    <tr>\n",
       "      <th>1</th>\n",
       "      <td>BG2</td>\n",
       "      <td>Barking and Dagenham - Scrattons Farm</td>\n",
       "      <td>51.529389</td>\n",
       "      <td>0.132857</td>\n",
       "    </tr>\n",
       "    <tr>\n",
       "      <th>2</th>\n",
       "      <td>BX2</td>\n",
       "      <td>Bexley - Belvedere</td>\n",
       "      <td>51.4906102082147</td>\n",
       "      <td>0.158914493927518</td>\n",
       "    </tr>\n",
       "    <tr>\n",
       "      <th>3</th>\n",
       "      <td>BX0</td>\n",
       "      <td>Bexley - Belvedere FDMS</td>\n",
       "      <td>51.4906102082147</td>\n",
       "      <td>0.158914493927518</td>\n",
       "    </tr>\n",
       "    <tr>\n",
       "      <th>4</th>\n",
       "      <td>BQ7</td>\n",
       "      <td>Bexley - Belvedere West</td>\n",
       "      <td>51.4946486813055</td>\n",
       "      <td>0.137279111232178</td>\n",
       "    </tr>\n",
       "    <tr>\n",
       "      <th>...</th>\n",
       "      <td>...</td>\n",
       "      <td>...</td>\n",
       "      <td>...</td>\n",
       "      <td>...</td>\n",
       "    </tr>\n",
       "    <tr>\n",
       "      <th>104</th>\n",
       "      <td>MY1</td>\n",
       "      <td>Westminster - Marylebone Road</td>\n",
       "      <td>51.52254</td>\n",
       "      <td>-0.15459</td>\n",
       "    </tr>\n",
       "    <tr>\n",
       "      <th>105</th>\n",
       "      <td>MY7</td>\n",
       "      <td>Westminster - Marylebone Road FDMS</td>\n",
       "      <td>51.52254</td>\n",
       "      <td>-0.15459</td>\n",
       "    </tr>\n",
       "    <tr>\n",
       "      <th>106</th>\n",
       "      <td>WM6</td>\n",
       "      <td>Westminster - Oxford Street</td>\n",
       "      <td>51.5139287404213</td>\n",
       "      <td>-0.152792701881935</td>\n",
       "    </tr>\n",
       "    <tr>\n",
       "      <th>107</th>\n",
       "      <td>WMB</td>\n",
       "      <td>Westminster - Oxford Street East</td>\n",
       "      <td>51.516066</td>\n",
       "      <td>-0.13516388</td>\n",
       "    </tr>\n",
       "    <tr>\n",
       "      <th>108</th>\n",
       "      <td>NB1</td>\n",
       "      <td>Westminster - Strand (Northbank BID)</td>\n",
       "      <td>51.5119701188277</td>\n",
       "      <td>-0.116713103528546</td>\n",
       "    </tr>\n",
       "  </tbody>\n",
       "</table>\n",
       "<p>109 rows × 4 columns</p>\n",
       "</div>"
      ],
      "text/plain": [
       "    site_code                              site_name          latitude  \\\n",
       "0         BG1      Barking and Dagenham - Rush Green         51.563752   \n",
       "1         BG2  Barking and Dagenham - Scrattons Farm         51.529389   \n",
       "2         BX2                     Bexley - Belvedere  51.4906102082147   \n",
       "3         BX0                Bexley - Belvedere FDMS  51.4906102082147   \n",
       "4         BQ7                Bexley - Belvedere West  51.4946486813055   \n",
       "..        ...                                    ...               ...   \n",
       "104       MY1          Westminster - Marylebone Road          51.52254   \n",
       "105       MY7     Westminster - Marylebone Road FDMS          51.52254   \n",
       "106       WM6            Westminster - Oxford Street  51.5139287404213   \n",
       "107       WMB       Westminster - Oxford Street East         51.516066   \n",
       "108       NB1   Westminster - Strand (Northbank BID)  51.5119701188277   \n",
       "\n",
       "              longitude  \n",
       "0              0.177891  \n",
       "1              0.132857  \n",
       "2     0.158914493927518  \n",
       "3     0.158914493927518  \n",
       "4     0.137279111232178  \n",
       "..                  ...  \n",
       "104            -0.15459  \n",
       "105            -0.15459  \n",
       "106  -0.152792701881935  \n",
       "107         -0.13516388  \n",
       "108  -0.116713103528546  \n",
       "\n",
       "[109 rows x 4 columns]"
      ]
     },
     "execution_count": 7,
     "metadata": {},
     "output_type": "execute_result"
    }
   ],
   "source": [
    "df_sites_tosql"
   ]
  }
 ],
 "metadata": {
  "kernelspec": {
   "display_name": "Python 3",
   "language": "python",
   "name": "python3"
  },
  "language_info": {
   "codemirror_mode": {
    "name": "ipython",
    "version": 3
   },
   "file_extension": ".py",
   "mimetype": "text/x-python",
   "name": "python",
   "nbconvert_exporter": "python",
   "pygments_lexer": "ipython3",
   "version": "3.8.5"
  }
 },
 "nbformat": 4,
 "nbformat_minor": 4
}
