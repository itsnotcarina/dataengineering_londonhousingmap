{
 "cells": [
  {
   "cell_type": "markdown",
   "metadata": {},
   "source": [
    "# Querying LondonAir for pollution data"
   ]
  },
  {
   "cell_type": "markdown",
   "metadata": {},
   "source": [
    "# 0. Set-up"
   ]
  },
  {
   "cell_type": "code",
   "execution_count": 1,
   "metadata": {},
   "outputs": [],
   "source": [
    "## import liabrairies\n",
    "import pandas as pd\n",
    "import numpy as np\n",
    "import re\n",
    "import requests\n",
    "import json"
   ]
  },
  {
   "cell_type": "markdown",
   "metadata": {},
   "source": [
    "# 1. Functions"
   ]
  },
  {
   "cell_type": "code",
   "execution_count": 2,
   "metadata": {},
   "outputs": [],
   "source": [
    "def request_json(link):\n",
    "    response = requests.get(link)\n",
    "    rep_json = response.text\n",
    "    parsed = json.loads(rep_json)\n",
    "    return parsed"
   ]
  },
  {
   "cell_type": "code",
   "execution_count": 3,
   "metadata": {},
   "outputs": [],
   "source": [
    "## Function to read measures given by the API\n",
    "\n",
    "def get_measures(json):\n",
    "\n",
    "    # Create empty lists for storage\n",
    "    SpeciesCode = []\n",
    "    MeasurementDateGMT = []\n",
    "    Value = []\n",
    "    \n",
    "    # Loop through the json file\n",
    "    for i in range(len(json['AirQualityData']['Data'])):\n",
    "        root_data = json['AirQualityData']['Data']\n",
    "        SpeciesCode.append(root_data[i]['@SpeciesCode'])\n",
    "        MeasurementDateGMT.append(root_data[i]['@MeasurementDateGMT'])\n",
    "        Value.append(root_data[i]['@Value'])\n",
    "    \n",
    "    # Create final dataframe\n",
    "    df_measures = pd.DataFrame(np.column_stack([SpeciesCode, MeasurementDateGMT, Value]),\n",
    "                                   columns=['SpeciesCode', 'MeasurementDateGMT', 'Value'])\n",
    "    \n",
    "    # Formatting - insert side code, rearrange columns and replace empty strings\n",
    "    df_measures['Sitecode'] = json['AirQualityData']['@SiteCode']\n",
    "    df_measures = df_measures[['Sitecode', 'MeasurementDateGMT', 'SpeciesCode', 'Value']]\n",
    "    df_measures['Value'] = df_measures['Value'].replace('', 0)\n",
    "    \n",
    "    return df_measures"
   ]
  },
  {
   "cell_type": "code",
   "execution_count": 4,
   "metadata": {},
   "outputs": [],
   "source": [
    "## Function to get measures for all sites between a certain timeframe\n",
    "\n",
    "def get_record(sites, start_date, end_date):\n",
    "    \n",
    "    #Create empty dataframe\n",
    "    df_record = pd.DataFrame()\n",
    "    \n",
    "    # Loop through list of sites\n",
    "    for i in sites:\n",
    "        site_request = ('/Data/Site/SiteCode=' + i + '/StartDate=' + start_date + '/EndDate=' + end_date + '/Json')\n",
    "        link_request = base_api + site_request\n",
    "        json_response = request_json(link_request)\n",
    "        df_site = get_measures(json_response)\n",
    "        df_record = df_record.append(df_site)\n",
    "        \n",
    "    return df_record"
   ]
  },
  {
   "cell_type": "markdown",
   "metadata": {},
   "source": [
    "# 2. Execution"
   ]
  },
  {
   "cell_type": "code",
   "execution_count": 5,
   "metadata": {},
   "outputs": [],
   "source": [
    "base_api = 'https://api.erg.ic.ac.uk/AirQuality'"
   ]
  },
  {
   "cell_type": "code",
   "execution_count": 6,
   "metadata": {},
   "outputs": [],
   "source": [
    "## Hard-coded sites to query - to be improved at later stage via dynamic query based on mapped subway stations\n",
    "sites_to_query = ['TH4', 'BQ7', 'EA8', 'EI8', 'EI3', 'CR9', 'GB6', 'CT3', 'HG4', 'EA6',\n",
    "                  'HI0', 'ST9', 'CR5', 'CT2', 'EN4', 'EN5', 'IS6', 'HP1', 'MY1', 'WAB',\n",
    "                  'CT8', 'ST6', 'CT4', 'RB7', 'BX1', 'RI1', 'WA9', 'WAA', 'KC1', 'LW1',\n",
    "                  'GN0', 'BG2', 'ST5', 'ME9', 'CD1', 'BX2', 'SKA', 'KT4', 'TH2', 'BY7',\n",
    "                  'LW4', 'GV2', 'CT6', 'BT8', 'HV3', 'EN7', 'LB4', 'LW2', 'HG1', 'RB4',\n",
    "                  'HR1', 'EN1', 'HR2', 'IS2', 'WMB', 'WMC', 'ST4', 'HV1', 'IM1', 'WM5',\n",
    "                  'GR8', 'GN4', 'WAC', 'BT5', 'ME2', 'GR7', 'BG1', 'HK6', 'LW5', 'WA2',\n",
    "                  'WA7', 'SK6', 'GR9', 'BL0', 'LH0', 'TD5', 'LB6', 'GV1', 'RI2', 'KT5',\n",
    "                  'BT6', 'GN5', 'WM6', 'CR8', 'KT6', 'LB5', 'EI1', 'GN6', 'SK5', 'WM0',\n",
    "                  'CR7', 'BT4', 'NB1', 'WMD']"
   ]
  },
  {
   "cell_type": "code",
   "execution_count": 7,
   "metadata": {},
   "outputs": [],
   "source": [
    "## Query LondonAir API for all sites closed to the subway stations, for the past 7 days\n",
    "\n",
    "from datetime import datetime, timedelta\n",
    "\n",
    "nbr_day_query = 1\n",
    "end = datetime.today()\n",
    "end_date = end.strftime('%Y-%m-%d')\n",
    "\n",
    "start = end - timedelta(days= nbr_day_query)\n",
    "start_date = start.strftime('%Y-%m-%d')\n",
    "\n",
    "site_list = sites_to_query"
   ]
  },
  {
   "cell_type": "code",
   "execution_count": 8,
   "metadata": {},
   "outputs": [],
   "source": [
    "record_1 = get_record(site_list, start_date, end_date)\n",
    "record_1 = record_1.reset_index(drop = True)"
   ]
  },
  {
   "cell_type": "markdown",
   "metadata": {},
   "source": [
    "# 3. Output"
   ]
  },
  {
   "cell_type": "code",
   "execution_count": 9,
   "metadata": {},
   "outputs": [
    {
     "data": {
      "text/html": [
       "<div>\n",
       "<style scoped>\n",
       "    .dataframe tbody tr th:only-of-type {\n",
       "        vertical-align: middle;\n",
       "    }\n",
       "\n",
       "    .dataframe tbody tr th {\n",
       "        vertical-align: top;\n",
       "    }\n",
       "\n",
       "    .dataframe thead th {\n",
       "        text-align: right;\n",
       "    }\n",
       "</style>\n",
       "<table border=\"1\" class=\"dataframe\">\n",
       "  <thead>\n",
       "    <tr style=\"text-align: right;\">\n",
       "      <th></th>\n",
       "      <th>Sitecode</th>\n",
       "      <th>MeasurementDateGMT</th>\n",
       "      <th>SpeciesCode</th>\n",
       "      <th>Value</th>\n",
       "    </tr>\n",
       "  </thead>\n",
       "  <tbody>\n",
       "    <tr>\n",
       "      <th>0</th>\n",
       "      <td>TH4</td>\n",
       "      <td>2021-03-16 00:00:00</td>\n",
       "      <td>NO2</td>\n",
       "      <td>41.4</td>\n",
       "    </tr>\n",
       "    <tr>\n",
       "      <th>1</th>\n",
       "      <td>TH4</td>\n",
       "      <td>2021-03-16 01:00:00</td>\n",
       "      <td>NO2</td>\n",
       "      <td>34.8</td>\n",
       "    </tr>\n",
       "    <tr>\n",
       "      <th>2</th>\n",
       "      <td>TH4</td>\n",
       "      <td>2021-03-16 02:00:00</td>\n",
       "      <td>NO2</td>\n",
       "      <td>28.6</td>\n",
       "    </tr>\n",
       "    <tr>\n",
       "      <th>3</th>\n",
       "      <td>TH4</td>\n",
       "      <td>2021-03-16 03:00:00</td>\n",
       "      <td>NO2</td>\n",
       "      <td>28.6</td>\n",
       "    </tr>\n",
       "    <tr>\n",
       "      <th>4</th>\n",
       "      <td>TH4</td>\n",
       "      <td>2021-03-16 04:00:00</td>\n",
       "      <td>NO2</td>\n",
       "      <td>33.3</td>\n",
       "    </tr>\n",
       "    <tr>\n",
       "      <th>...</th>\n",
       "      <td>...</td>\n",
       "      <td>...</td>\n",
       "      <td>...</td>\n",
       "      <td>...</td>\n",
       "    </tr>\n",
       "    <tr>\n",
       "      <th>6547</th>\n",
       "      <td>WMD</td>\n",
       "      <td>2021-03-16 19:00:00</td>\n",
       "      <td>PM25</td>\n",
       "      <td>13</td>\n",
       "    </tr>\n",
       "    <tr>\n",
       "      <th>6548</th>\n",
       "      <td>WMD</td>\n",
       "      <td>2021-03-16 20:00:00</td>\n",
       "      <td>PM25</td>\n",
       "      <td>12</td>\n",
       "    </tr>\n",
       "    <tr>\n",
       "      <th>6549</th>\n",
       "      <td>WMD</td>\n",
       "      <td>2021-03-16 21:00:00</td>\n",
       "      <td>PM25</td>\n",
       "      <td>10</td>\n",
       "    </tr>\n",
       "    <tr>\n",
       "      <th>6550</th>\n",
       "      <td>WMD</td>\n",
       "      <td>2021-03-16 22:00:00</td>\n",
       "      <td>PM25</td>\n",
       "      <td>11</td>\n",
       "    </tr>\n",
       "    <tr>\n",
       "      <th>6551</th>\n",
       "      <td>WMD</td>\n",
       "      <td>2021-03-16 23:00:00</td>\n",
       "      <td>PM25</td>\n",
       "      <td>10</td>\n",
       "    </tr>\n",
       "  </tbody>\n",
       "</table>\n",
       "<p>6552 rows × 4 columns</p>\n",
       "</div>"
      ],
      "text/plain": [
       "     Sitecode   MeasurementDateGMT SpeciesCode Value\n",
       "0         TH4  2021-03-16 00:00:00         NO2  41.4\n",
       "1         TH4  2021-03-16 01:00:00         NO2  34.8\n",
       "2         TH4  2021-03-16 02:00:00         NO2  28.6\n",
       "3         TH4  2021-03-16 03:00:00         NO2  28.6\n",
       "4         TH4  2021-03-16 04:00:00         NO2  33.3\n",
       "...       ...                  ...         ...   ...\n",
       "6547      WMD  2021-03-16 19:00:00        PM25    13\n",
       "6548      WMD  2021-03-16 20:00:00        PM25    12\n",
       "6549      WMD  2021-03-16 21:00:00        PM25    10\n",
       "6550      WMD  2021-03-16 22:00:00        PM25    11\n",
       "6551      WMD  2021-03-16 23:00:00        PM25    10\n",
       "\n",
       "[6552 rows x 4 columns]"
      ]
     },
     "execution_count": 9,
     "metadata": {},
     "output_type": "execute_result"
    }
   ],
   "source": [
    "record_1"
   ]
  }
 ],
 "metadata": {
  "kernelspec": {
   "display_name": "Python 3",
   "language": "python",
   "name": "python3"
  },
  "language_info": {
   "codemirror_mode": {
    "name": "ipython",
    "version": 3
   },
   "file_extension": ".py",
   "mimetype": "text/x-python",
   "name": "python",
   "nbconvert_exporter": "python",
   "pygments_lexer": "ipython3",
   "version": "3.8.5"
  }
 },
 "nbformat": 4,
 "nbformat_minor": 4
}
